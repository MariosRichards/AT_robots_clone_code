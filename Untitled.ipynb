{
 "cells": [
  {
   "cell_type": "code",
   "execution_count": 4,
   "metadata": {
    "collapsed": true
   },
   "outputs": [],
   "source": [
    "# animation_demo_1.py\n",
    "from graphics import *                          # get the graphics.py module\n",
    "myWin = GraphWin(\"Animation 1\",640,480)         # 640 wide, 480 tall"
   ]
  },
  {
   "cell_type": "code",
   "execution_count": 3,
   "metadata": {
    "collapsed": false
   },
   "outputs": [
    {
     "name": "stdout",
     "output_type": "stream",
     "text": [
      "Press [Enter] to quit.\n"
     ]
    }
   ],
   "source": [
    "\n",
    "myWin.setBackground(\"white\")\n",
    "myLine = Line(Point(0,0),Point(0,479))          # create line\n",
    "myLine.setFill('blue')\n",
    "myLine.draw(myWin)                              # Draw the initial line...\n",
    "\n",
    "for i in range(320):\n",
    "    myLine.undraw()                             # ...then remove line from screen\n",
    "    myLine = Line(Point(i*2,0),Point(0,479))    # create line\n",
    "    myLine.setFill('blue')\n",
    "    myLine.draw(myWin)                          # display line onscreen               \n",
    "pause = input(\"Press [Enter] to quit.\")\n",
    "myWin.close()                                   # closes the window"
   ]
  },
  {
   "cell_type": "code",
   "execution_count": null,
   "metadata": {
    "collapsed": true
   },
   "outputs": [],
   "source": []
  }
 ],
 "metadata": {
  "kernelspec": {
   "display_name": "Python 3",
   "language": "python",
   "name": "python3"
  },
  "language_info": {
   "codemirror_mode": {
    "name": "ipython",
    "version": 3
   },
   "file_extension": ".py",
   "mimetype": "text/x-python",
   "name": "python",
   "nbconvert_exporter": "python",
   "pygments_lexer": "ipython3",
   "version": "3.5.2"
  }
 },
 "nbformat": 4,
 "nbformat_minor": 0
}
